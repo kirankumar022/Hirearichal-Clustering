import pandas as pd
from pandas import ExcelWriter
from pandas import ExcelFile
import matplotlib.pylab as plt
air_data=pd.read_excel('E:/data/EastWestAirlines.xlsx')
air_data.describe()

#Normalize function
def norm_func(i):
    x=(i-i.min()) / (i.max()-i.min())
    return(x)
                              
df_norm=norm_func(air_data.iloc[:,1:])
df_norm.describe()

#for creating dendogram
from scipy.cluster.hierarchy import linkage
import scipy.cluster.hierarchy as sch
k=linkage(df_norm,method="complete",metric="Euclidean")

#dendogram
plt.figure(figsize=(15,8));plt.title('Agglomerative clustering');plt.xlabel('customers');plt.ylabel('air_data')
sch.dendrogram(k,leaf_rotation=0,leaf_font_size=10)
plt.show()
#apply agglomerative clustering
from sklearn.cluster import AgglomerativeClustering
h_complete=AgglomerativeClustering(n_clusters=3,linkage='complete',affinity="euclidean").fit(df_norm)
h_complete.labels_
cluster_labels=pd.Series(h_complete.labels_)
air_data['ranking']=cluster_labels
final_data=air_data.iloc[:, [12,0,1,2,3,4,5,6,7,8,9,10,11]]
air_data.head()

#aggregate mean of each cluster
air_data.iloc[:, 2:].groupby(final_data.ranking).mean()

#creating a csv file
air_data.to_csv("airdatapython2.csv",encoding="utf-8")
import os
os.getcwd()



