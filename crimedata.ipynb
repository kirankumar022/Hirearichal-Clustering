import pandas as pd
import matplotlib.pylab as plt
crime_data=pd.read_csv('E:/data/crime_data.csv')
crime_data.describe()

#Normalize function
def norm_func(i):
    x=(i-i.min()) / (i.max()-i.min())
    return(x)
                              
df_norm=norm_func(crime_data.iloc[:,1:])
df_norm.describe()

#for creating dendogram
from scipy.cluster.hierarchy import linkage
import scipy.cluster.hierarchy as sch
k=linkage(df_norm,method="complete",metric="euclidean")

#dendogram
plt.figure(figsize=(15,8));plt.title('Agglomerative clustering');plt.xlabel('state Index');plt.ylabel('Crimes')
sch.dendrogram(k,leaf_rotation=0,leaf_font_size=10)
plt.show()
#apply agglomerative clustering
from sklearn.cluster import AgglomerativeClustering
h_complete=AgglomerativeClustering(n_clusters=2,linkage='complete',affinity="euclidean").fit(df_norm)
h_complete.labels_

cluster_labels=pd.Series(h_complete.labels_)
crime_data['ranking']=cluster_labels
final_data=crime_data.iloc[:, [5,0,1,2,3,4]]
final_data.head()

#aggregate mean of each cluster
crime_data.iloc[:, 2:].groupby(final_data.ranking).mean()

#creating a csv file
crime_data.to_csv("crimedatapython.csv",encoding="utf-8")
import os
os.getcwd()



